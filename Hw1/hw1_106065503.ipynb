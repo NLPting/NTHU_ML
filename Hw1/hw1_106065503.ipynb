{
 "cells": [
  {
   "cell_type": "code",
   "execution_count": 1,
   "metadata": {},
   "outputs": [
    {
     "name": "stderr",
     "output_type": "stream",
     "text": [
      "/home/ting/anaconda3/lib/python3.6/site-packages/sklearn/cross_validation.py:41: DeprecationWarning: This module was deprecated in version 0.18 in favor of the model_selection module into which all the refactored classes and functions are moved. Also note that the interface of the new CV iterators are different from that of this module. This module will be removed in 0.20.\n",
      "  \"This module will be removed in 0.20.\", DeprecationWarning)\n"
     ]
    }
   ],
   "source": [
    "import tensorflow as tf\n",
    "import numpy as np \n",
    "import pandas as pd\n",
    "from sklearn.datasets import fetch_california_housing\n",
    "from sklearn.cross_validation import train_test_split\n",
    "from numpy.linalg import inv\n",
    "housing = fetch_california_housing()"
   ]
  },
  {
   "cell_type": "code",
   "execution_count": 2,
   "metadata": {},
   "outputs": [],
   "source": [
    "def normal_eq(X, y):\n",
    "    return inv(X.T.dot(X)).dot(X.T).dot(y)"
   ]
  },
  {
   "cell_type": "code",
   "execution_count": 3,
   "metadata": {},
   "outputs": [],
   "source": [
    "df = pd.DataFrame(data = housing.data,columns=housing.feature_names)\n",
    "dff = df.apply(lambda x: (x-x.mean())/x.std(), axis=0).fillna(0)\n",
    "dff.insert(loc = 0 ,column='label',value=housing.target)"
   ]
  },
  {
   "cell_type": "code",
   "execution_count": 4,
   "metadata": {},
   "outputs": [
    {
     "data": {
      "text/plain": [
       "(2064, 9)"
      ]
     },
     "execution_count": 4,
     "metadata": {},
     "output_type": "execute_result"
    }
   ],
   "source": [
    "X , y =dff.iloc[:,1:].values,dff.iloc[:,0].values\n",
    "X = np.column_stack((np.ones(len(X)), X))\n",
    "X_train , X_test ,y_train,y_test = train_test_split(X,y,test_size=0.1,random_state = 0)\n",
    "y_train = y_train.reshape(y_train.shape[0],1)\n",
    "y_test = y_test.reshape(y_test.shape[0],1)\n",
    "n_dim = X_train.shape[1]\n",
    "X_test.shape"
   ]
  },
  {
   "cell_type": "code",
   "execution_count": 5,
   "metadata": {},
   "outputs": [],
   "source": [
    "X = tf.placeholder(tf.float32, [None,n_dim], name='x')\n",
    "Y = tf.placeholder(tf.float32 , [None , 1],name = 'y_')\n",
    "W = tf.matmul(tf.matrix_inverse(tf.matmul(tf.transpose(X),X)),tf.matmul(tf.transpose(X),Y))"
   ]
  },
  {
   "cell_type": "code",
   "execution_count": 6,
   "metadata": {},
   "outputs": [],
   "source": [
    "init = tf.global_variables_initializer()"
   ]
  },
  {
   "cell_type": "code",
   "execution_count": 7,
   "metadata": {},
   "outputs": [],
   "source": [
    "sess = tf.Session()\n",
    "sess.run(init)"
   ]
  },
  {
   "cell_type": "code",
   "execution_count": 8,
   "metadata": {},
   "outputs": [
    {
     "name": "stdout",
     "output_type": "stream",
     "text": [
      "[[ 2.06835771]\n",
      " [ 0.82586974]\n",
      " [ 0.11848944]\n",
      " [-0.25575805]\n",
      " [ 0.29522195]\n",
      " [-0.006164  ]\n",
      " [-0.05498747]\n",
      " [-0.89618969]\n",
      " [-0.86659926]]\n"
     ]
    }
   ],
   "source": [
    "#print('Weights:',sess.run(W,feed_dict={X:X_train,Y:y_train}))\n",
    "w = sess.run(W,feed_dict={X:X_train,Y:y_train})\n",
    "print(w)"
   ]
  },
  {
   "cell_type": "code",
   "execution_count": 9,
   "metadata": {},
   "outputs": [
    {
     "name": "stdout",
     "output_type": "stream",
     "text": [
      "0.320751\n"
     ]
    }
   ],
   "source": [
    "X_test = X_test.astype('float32')\n",
    "pred_y = tf.matmul(X_test,w)\n",
    "error_rate = tf.reduce_mean(abs((y_test - pred_y)) / y_test)\n",
    "print(sess.run(error_rate))"
   ]
  },
  {
   "cell_type": "code",
   "execution_count": null,
   "metadata": {},
   "outputs": [],
   "source": []
  }
 ],
 "metadata": {
  "kernelspec": {
   "display_name": "Python 3",
   "language": "python",
   "name": "python3"
  },
  "language_info": {
   "codemirror_mode": {
    "name": "ipython",
    "version": 3
   },
   "file_extension": ".py",
   "mimetype": "text/x-python",
   "name": "python",
   "nbconvert_exporter": "python",
   "pygments_lexer": "ipython3",
   "version": "3.6.1"
  }
 },
 "nbformat": 4,
 "nbformat_minor": 2
}
