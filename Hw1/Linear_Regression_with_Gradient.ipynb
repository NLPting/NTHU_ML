{
 "cells": [
  {
   "cell_type": "code",
   "execution_count": 1,
   "metadata": {},
   "outputs": [],
   "source": [
    "import tensorflow as tf\n",
    "import numpy as np \n",
    "from sklearn.datasets import fetch_california_housing\n",
    "from IPython.display import clear_output, Image, display, HTML"
   ]
  },
  {
   "cell_type": "code",
   "execution_count": 2,
   "metadata": {},
   "outputs": [],
   "source": [
    "###### Do not modify here ###### \n",
    "def strip_consts(graph_def, max_const_size=32):\n",
    "    \"\"\"Strip large constant values from graph_def.\"\"\"\n",
    "    strip_def = tf.GraphDef()\n",
    "    for n0 in graph_def.node:\n",
    "        n = strip_def.node.add() \n",
    "        n.MergeFrom(n0)\n",
    "        if n.op == 'Const':\n",
    "            tensor = n.attr['value'].tensor\n",
    "            size = len(tensor.tensor_content)\n",
    "            if size > max_const_size:\n",
    "                tensor.tensor_content = \"<stripped %d bytes>\"%size\n",
    "    return strip_def\n",
    "\n",
    "def show_graph(graph_def, max_const_size=32):\n",
    "    \"\"\"Visualize TensorFlow graph.\"\"\"\n",
    "    if hasattr(graph_def, 'as_graph_def'):\n",
    "        graph_def = graph_def.as_graph_def()\n",
    "    strip_def = graph_def\n",
    "    #strip_def = strip_consts(graph_def, max_const_size=max_const_size)\n",
    "    code = \"\"\"\n",
    "        <script>\n",
    "          function load() {{\n",
    "            document.getElementById(\"{id}\").pbtxt = {data};\n",
    "          }}\n",
    "        </script>\n",
    "        <link rel=\"import\" href=\"https://tensorboard.appspot.com/tf-graph-basic.build.html\" onload=load()>\n",
    "        <div style=\"height:600px\">\n",
    "          <tf-graph-basic id=\"{id}\"></tf-graph-basic>\n",
    "        </div>\n",
    "    \"\"\".format(data=repr(str(strip_def)), id='graph'+str(np.random.rand()))\n",
    "\n",
    "    iframe = \"\"\"\n",
    "        <iframe seamless style=\"width:1200px;height:620px;border:0\" srcdoc=\"{}\"></iframe>\n",
    "    \"\"\".format(code.replace('\"', '&quot;'))\n",
    "    display(HTML(iframe))\n",
    "###### Do not modify  here ######"
   ]
  },
  {
   "cell_type": "code",
   "execution_count": 4,
   "metadata": {},
   "outputs": [],
   "source": [
    "### Get data and set boundary\n",
    "percent = 0.9\n",
    "housing = fetch_california_housing()\n",
    "\n",
    "total_len = len(housing.data)\n",
    "train_len = int(total_len * percent)\n",
    "test_len = total_len - train_len\n",
    "feature_len = len(housing.feature_names)"
   ]
  },
  {
   "cell_type": "code",
   "execution_count": 5,
   "metadata": {},
   "outputs": [],
   "source": [
    "### Set training and test data\n",
    "def feature_normalize(data):\n",
    "    mean = np.mean(data, axis=0)\n",
    "    std = np.std(data, axis=0)\n",
    "    return (data - mean) / std\n",
    "\n",
    "X_train, X_test = np.split(np.float32(feature_normalize(housing.data)), [train_len])\n",
    "y_train, y_test = np.split(np.float32(housing.target), [train_len])\n",
    "\n",
    "y_train = y_train.reshape([train_len, 1])\n",
    "y_test = y_test.reshape([test_len, 1])"
   ]
  },
  {
   "cell_type": "code",
   "execution_count": 6,
   "metadata": {},
   "outputs": [],
   "source": [
    "#### Parameters\n",
    "learning_rate = 0.3\n",
    "training_epochs = 1000"
   ]
  },
  {
   "cell_type": "code",
   "execution_count": 7,
   "metadata": {},
   "outputs": [],
   "source": [
    "### Create TF structure\n",
    "X = tf.placeholder(tf.float32, [None, feature_len])\n",
    "y = tf.placeholder(tf.float32, [None, 1])"
   ]
  },
  {
   "cell_type": "code",
   "execution_count": 8,
   "metadata": {},
   "outputs": [],
   "source": [
    "### Gradient method\n",
    "Weights = tf.Variable(tf.random_uniform([feature_len, 1], 1.0, -1.0))\n",
    "biases = tf.Variable(tf.ones([1]))\n",
    "\n",
    "y_predict = tf.matmul(X,Weights) + biases\n",
    "\n",
    "loss_history = np.empty(shape=[1], dtype=float)\n",
    "\n",
    "loss = tf.reduce_mean(tf.square(y_predict - y_train))\n",
    "optimizer = tf.train.GradientDescentOptimizer(learning_rate)\n",
    "train = optimizer.minimize(loss)\n",
    "\n",
    "init = tf.global_variables_initializer()"
   ]
  },
  {
   "cell_type": "code",
   "execution_count": 9,
   "metadata": {},
   "outputs": [
    {
     "name": "stdout",
     "output_type": "stream",
     "text": [
      "[[ 0.84053874]\n",
      " [ 0.12394544]\n",
      " [-0.28168997]\n",
      " [ 0.32278204]\n",
      " [-0.00191841]\n",
      " [-0.05835282]\n",
      " [-0.92267388]\n",
      " [-0.89473665]]\n",
      "done\n"
     ]
    }
   ],
   "source": [
    "###### Start TF session ######\n",
    "config = tf.ConfigProto(device_count = {'GPU': 1})\n",
    "config.gpu_options.allow_growth = True\n",
    "\n",
    "sess = tf.Session()\n",
    "sess.run(init)\n",
    "    \n",
    "for epoch in range(training_epochs):\n",
    "#     if epoch % 20 == 0:\n",
    "#         print(epoch, sess.run(Weights), sess.run(biases))\n",
    "    sess.run(train, feed_dict={X: X_train, y: y_train})\n",
    "    loss_history = np.append(loss_history, \n",
    "                             sess.run(loss, feed_dict={X: X_train, y: y_train}))\n",
    "print(sess.run(Weights))   \n",
    "print('done')"
   ]
  },
  {
   "cell_type": "code",
   "execution_count": 10,
   "metadata": {},
   "outputs": [
    {
     "data": {
      "image/png": "[encoded data removed]",
      "text/plain": [
       "<matplotlib.figure.Figure at 0x7f814eadbfd0>"
      ]
     },
     "metadata": {},
     "output_type": "display_data"
    }
   ],
   "source": [
    "import matplotlib.pyplot as plt\n",
    "plt.plot(range(len(loss_history)), loss_history)\n",
    "plt.axis([0, training_epochs, 0, np.max(loss_history)])\n",
    "plt.show()"
   ]
  },
  {
   "cell_type": "code",
   "execution_count": 11,
   "metadata": {},
   "outputs": [
    {
     "name": "stdout",
     "output_type": "stream",
     "text": [
      "MSE: 0.3442\n"
     ]
    },
    {
     "data": {
      "image/png": "[encoded data removed]",
      "text/plain": [
       "<matplotlib.figure.Figure at 0x7f81441f6400>"
      ]
     },
     "metadata": {},
     "output_type": "display_data"
    }
   ],
   "source": [
    "y_ = sess.run(y_predict, feed_dict={X: X_test})\n",
    "mse = tf.reduce_mean(tf.abs(y_ - y_test)/ y_test)\n",
    "print(\"MSE: %.4f\" % sess.run(mse)) \n",
    "\n",
    "fig, ax = plt.subplots()\n",
    "ax.scatter(y_test, y_)\n",
    "ax.plot([y_test.min(), y_test.max()], [y_test.min(), y_test.max()], 'k--', lw=3)\n",
    "# why plot x and y are same?\n",
    "ax.set_xlabel('Measured')\n",
    "ax.set_ylabel('Predicted')\n",
    "plt.show()"
   ]
  },
  {
   "cell_type": "code",
   "execution_count": null,
   "metadata": {},
   "outputs": [],
   "source": []
  }
 ],
 "metadata": {
  "kernelspec": {
   "display_name": "Python 3",
   "language": "python",
   "name": "python3"
  },
  "language_info": {
   "codemirror_mode": {
    "name": "ipython",
    "version": 3
   },
   "file_extension": ".py",
   "mimetype": "text/x-python",
   "name": "python",
   "nbconvert_exporter": "python",
   "pygments_lexer": "ipython3",
   "version": "3.6.1"
  }
 },
 "nbformat": 4,
 "nbformat_minor": 2
}
