{
 "cells": [
  {
   "cell_type": "code",
   "execution_count": 1,
   "metadata": {
    "collapsed": false
   },
   "outputs": [
    {
     "name": "stdout",
     "output_type": "stream",
     "text": [
      "Extracting /tmp/data/train-images-idx3-ubyte.gz\n",
      "Extracting /tmp/data/train-labels-idx1-ubyte.gz\n",
      "Extracting /tmp/data/t10k-images-idx3-ubyte.gz\n",
      "Extracting /tmp/data/t10k-labels-idx1-ubyte.gz\n"
     ]
    }
   ],
   "source": [
    "import numpy as np\n",
    "import os\n",
    "import tensorflow as tf\n",
    "from sklearn.preprocessing import OneHotEncoder\n",
    "###### Do not modify here ###### \n",
    "\n",
    "# to make this notebook's output stable across runs\n",
    "def reset_graph(seed=42):\n",
    "    tf.reset_default_graph()\n",
    "    tf.set_random_seed(seed)\n",
    "    np.random.seed(seed)\n",
    "\n",
    "reset_graph()\n",
    "\n",
    "from tensorflow.examples.tutorials.mnist import input_data\n",
    "mnist = input_data.read_data_sets(\"/tmp/data/\")\n",
    "\n",
    "# training on MNIST but only on digits 0 to 4\n",
    "X_train1 = mnist.train.images[mnist.train.labels < 5]\n",
    "y_train1 = mnist.train.labels[mnist.train.labels < 5]\n",
    "X_valid1 = mnist.validation.images[mnist.validation.labels < 5]\n",
    "y_valid1 = mnist.validation.labels[mnist.validation.labels < 5]\n",
    "X_test1 = mnist.test.images[mnist.test.labels < 5]\n",
    "y_test1 = mnist.test.labels[mnist.test.labels < 5]\n",
    "\n",
    "###### Do not modify here ###### "
   ]
  },
  {
   "cell_type": "code",
   "execution_count": 2,
   "metadata": {
    "collapsed": false
   },
   "outputs": [
    {
     "name": "stdout",
     "output_type": "stream",
     "text": [
      "(28038, 784) (28038, 5)\n",
      "(2558, 784) (2558, 5)\n",
      "(5139, 784) (5139, 5)\n"
     ]
    }
   ],
   "source": [
    "y_train1 = y_train1.reshape(-1,1)\n",
    "y_test1 = y_test1.reshape(-1,1)\n",
    "y_valid1 = y_valid1.reshape(-1,1)\n",
    "enc =OneHotEncoder()\n",
    "enc.fit(y_train1)\n",
    "y_train1 = enc.transform(y_train1).toarray()\n",
    "y_test1 = enc.transform(y_test1).toarray()\n",
    "y_valid1 = enc.transform(y_valid1).toarray()\n",
    "print(X_train1.shape,y_train1.shape)#訓練資料\n",
    "print(X_valid1.shape,y_valid1.shape)#驗證資料\n",
    "print(X_test1.shape,y_test1.shape)#測試資料"
   ]
  },
  {
   "cell_type": "code",
   "execution_count": 3,
   "metadata": {
    "collapsed": true
   },
   "outputs": [],
   "source": [
    "import numpy as np\n",
    "import os\n",
    "import tensorflow as tf\n",
    "in_units = 784\n",
    "h1_units = 128\n",
    "h2_units = 128\n",
    "n_class = 5\n",
    "#h3_units = 128\n",
    "#h4_units = 128\n",
    "\n",
    "x = tf.placeholder(tf.float32,[None,in_units])\n",
    "keep_prob = tf.placeholder(tf.float32)\n",
    "with tf.variable_scope(\"multi-layer-disgin\"):\n",
    "    # initializers\n",
    "    w_init = tf.contrib.layers.variance_scaling_initializer()\n",
    "    #b_init = tf.constant_initializer(0.)\n",
    "    # 1st hidden layer 728*128\n",
    "    w1 = tf.get_variable('w1', [in_units,h1_units], initializer = tf.truncated_normal_initializer(stddev=0.1))\n",
    "    b1 = tf.get_variable('b1', [h1_units], initializer = tf.zeros_initializer())\n",
    "    hidden1 = tf.nn.relu(tf.matmul(x,w1)+b1)\n",
    "    hidden1_drop = tf.nn.dropout(hidden1,keep_prob)\n",
    "    # 2nd hidden layer 128*128\n",
    "    #w2 = tf.get_variable('w2', [hidden1_drop.get_shape()[1], h2_units], initializer=w_init)\n",
    "    #b2 = tf.get_variable('b2', [h2_units], initializer=b_init)\n",
    "    #hidden2 = tf.nn.relu(tf.matmul(hidden1_drop, w2) + b2)\n",
    "    #hidden2_drop = tf.nn.dropout(hidden2,keep_prob)\n",
    "    # output layer 128*5\n",
    "    wo = tf.get_variable('wo',[hidden1_drop.get_shape()[1],n_class],initializer=tf.zeros_initializer())\n",
    "    bo = tf.get_variable('bo',[n_class],initializer=tf.zeros_initializer())\n",
    "    y = tf.nn.softmax(tf.matmul(hidden1_drop,wo) + bo )"
   ]
  },
  {
   "cell_type": "code",
   "execution_count": 4,
   "metadata": {
    "collapsed": true
   },
   "outputs": [],
   "source": [
    "y_ = tf.placeholder(tf.float32 , [None,n_class])\n",
    "cross_entropy = tf.reduce_mean(-tf.reduce_sum(y_ * tf.log(y),reduction_indices=[1]))\n",
    "train_step = tf.train.AdagradOptimizer(0.3).minimize(cross_entropy)\n",
    "cost_history = np.empty(shape=[1],dtype=float)"
   ]
  },
  {
   "cell_type": "code",
   "execution_count": 5,
   "metadata": {
    "collapsed": false
   },
   "outputs": [
    {
     "name": "stdout",
     "output_type": "stream",
     "text": [
      "0.99299474606\n"
     ]
    }
   ],
   "source": [
    "init = tf.global_variables_initializer()\n",
    "with tf.Session() as sess:\n",
    "    sess.run(init)\n",
    "    for i in range(1000):\n",
    "        sess.run(train_step,feed_dict={x : X_train1 , y_:y_train1 , keep_prob:0.7})\n",
    "        cost_history = np.append(train_step,sess.run(cross_entropy,feed_dict={x: X_train1,y_: y_train1,keep_prob:0.7}))\n",
    "        \n",
    "    correct_prediction = tf.equal(tf.argmax(y,1),tf.argmax(y_,1))\n",
    "    accuracy = tf.reduce_mean(tf.cast(correct_prediction,tf.float64))\n",
    "    \n",
    "    print(accuracy.eval({x:X_test1,y_:y_test1,keep_prob:1.0}))"
   ]
  },
  {
   "cell_type": "code",
   "execution_count": null,
   "metadata": {
    "collapsed": true
   },
   "outputs": [],
   "source": []
  }
 ],
 "metadata": {
  "kernelspec": {
   "display_name": "Python 3",
   "language": "python",
   "name": "python3"
  },
  "language_info": {
   "codemirror_mode": {
    "name": "ipython",
    "version": 3
   },
   "file_extension": ".py",
   "mimetype": "text/x-python",
   "name": "python",
   "nbconvert_exporter": "python",
   "pygments_lexer": "ipython3",
   "version": "3.6.0"
  }
 },
 "nbformat": 4,
 "nbformat_minor": 2
}
